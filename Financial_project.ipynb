{
 "cells": [
  {
   "cell_type": "markdown",
   "id": "possible-coupon",
   "metadata": {},
   "source": [
    "# Проект по ММТС -  Финансовый инструментарий в помощь продвинутым  игрокам на фондовом рынке"
   ]
  },
  {
   "cell_type": "markdown",
   "id": "welsh-qatar",
   "metadata": {},
   "source": [
    "## План действий :\n",
    "### 1) Получаем данные от московской биржи, пробуем разные временные периоды\n",
    "### 2) Показываем все возможные, но выбираем 5 интересных акций для примера\n",
    "### 3) Выгружаем по этим тикерам нужные данные\n",
    "### 4) Реализуем Backtesting на примере нескольких классических стратегий\n",
    "### 5) Оптимизация стратегий для конкретных Тикеров\n",
    "### 6) Нотификации в браузере\n",
    "### 7) Предсказания будущих цен (Prophet, ARIMA)  \n"
   ]
  },
  {
   "cell_type": "markdown",
   "id": "falling-divorce",
   "metadata": {},
   "source": [
    "### Получаем цены с Московской биржы с помощью их API и библиотеки pandas_datareader"
   ]
  },
  {
   "cell_type": "code",
   "execution_count": 4,
   "id": "5af0e4d4",
   "metadata": {},
   "outputs": [
    {
     "name": "stdout",
     "output_type": "stream",
     "text": [
      "Collecting apimoex\n",
      "  Downloading apimoex-1.2.0-py3-none-any.whl (11 kB)\n",
      "Requirement already satisfied: requests in c:\\users\\a.minakov\\anaconda3\\lib\\site-packages (from apimoex) (2.26.0)\n",
      "Requirement already satisfied: idna<4,>=2.5 in c:\\users\\a.minakov\\anaconda3\\lib\\site-packages (from requests->apimoex) (3.2)\n",
      "Requirement already satisfied: certifi>=2017.4.17 in c:\\users\\a.minakov\\anaconda3\\lib\\site-packages (from requests->apimoex) (2021.10.8)\n",
      "Requirement already satisfied: urllib3<1.27,>=1.21.1 in c:\\users\\a.minakov\\anaconda3\\lib\\site-packages (from requests->apimoex) (1.26.7)\n",
      "Requirement already satisfied: charset-normalizer~=2.0.0 in c:\\users\\a.minakov\\anaconda3\\lib\\site-packages (from requests->apimoex) (2.0.4)\n",
      "Installing collected packages: apimoex\n",
      "Successfully installed apimoex-1.2.0\n"
     ]
    }
   ],
   "source": [
    "!pip install apimoex"
   ]
  },
  {
   "cell_type": "code",
   "execution_count": 46,
   "id": "74492a97",
   "metadata": {},
   "outputs": [
    {
     "name": "stdout",
     "output_type": "stream",
     "text": [
      "Collecting winotify\n",
      "  Downloading winotify-1.1.0-py3-none-any.whl (15 kB)\n",
      "Installing collected packages: winotify\n",
      "Successfully installed winotify-1.1.0\n"
     ]
    }
   ],
   "source": [
    "!pip install winotify"
   ]
  },
  {
   "cell_type": "code",
   "execution_count": 6,
   "id": "6cccfe12",
   "metadata": {},
   "outputs": [
    {
     "name": "stdout",
     "output_type": "stream",
     "text": [
      "Collecting backtesting\n",
      "  Downloading Backtesting-0.3.3.tar.gz (175 kB)\n",
      "Requirement already satisfied: numpy>=1.17.0 in c:\\users\\a.minakov\\anaconda3\\lib\\site-packages (from backtesting) (1.20.3)\n",
      "Requirement already satisfied: pandas!=0.25.0,>=0.25.0 in c:\\users\\a.minakov\\anaconda3\\lib\\site-packages (from backtesting) (1.3.4)\n",
      "Requirement already satisfied: bokeh>=1.4.0 in c:\\users\\a.minakov\\anaconda3\\lib\\site-packages (from backtesting) (2.4.1)\n",
      "Requirement already satisfied: typing-extensions>=3.10.0 in c:\\users\\a.minakov\\anaconda3\\lib\\site-packages (from bokeh>=1.4.0->backtesting) (3.10.0.2)\n",
      "Requirement already satisfied: pillow>=7.1.0 in c:\\users\\a.minakov\\anaconda3\\lib\\site-packages (from bokeh>=1.4.0->backtesting) (8.4.0)\n",
      "Requirement already satisfied: tornado>=5.1 in c:\\users\\a.minakov\\anaconda3\\lib\\site-packages (from bokeh>=1.4.0->backtesting) (6.1)\n",
      "Requirement already satisfied: Jinja2>=2.9 in c:\\users\\a.minakov\\anaconda3\\lib\\site-packages (from bokeh>=1.4.0->backtesting) (2.11.3)\n",
      "Requirement already satisfied: packaging>=16.8 in c:\\users\\a.minakov\\anaconda3\\lib\\site-packages (from bokeh>=1.4.0->backtesting) (21.0)\n",
      "Requirement already satisfied: PyYAML>=3.10 in c:\\users\\a.minakov\\anaconda3\\lib\\site-packages (from bokeh>=1.4.0->backtesting) (6.0)\n",
      "Requirement already satisfied: MarkupSafe>=0.23 in c:\\users\\a.minakov\\anaconda3\\lib\\site-packages (from Jinja2>=2.9->bokeh>=1.4.0->backtesting) (1.1.1)\n",
      "Requirement already satisfied: pyparsing>=2.0.2 in c:\\users\\a.minakov\\anaconda3\\lib\\site-packages (from packaging>=16.8->bokeh>=1.4.0->backtesting) (3.0.4)\n",
      "Requirement already satisfied: python-dateutil>=2.7.3 in c:\\users\\a.minakov\\anaconda3\\lib\\site-packages (from pandas!=0.25.0,>=0.25.0->backtesting) (2.8.2)\n",
      "Requirement already satisfied: pytz>=2017.3 in c:\\users\\a.minakov\\anaconda3\\lib\\site-packages (from pandas!=0.25.0,>=0.25.0->backtesting) (2021.3)\n",
      "Requirement already satisfied: six>=1.5 in c:\\users\\a.minakov\\anaconda3\\lib\\site-packages (from python-dateutil>=2.7.3->pandas!=0.25.0,>=0.25.0->backtesting) (1.16.0)\n",
      "Building wheels for collected packages: backtesting\n",
      "  Building wheel for backtesting (setup.py): started\n",
      "  Building wheel for backtesting (setup.py): finished with status 'done'\n",
      "  Created wheel for backtesting: filename=Backtesting-0.3.3-py3-none-any.whl size=173823 sha256=1f38a72a74730cbe973f7a5aafc00ecd052e810a08aca922283da2f427ac173b\n",
      "  Stored in directory: c:\\users\\a.minakov\\appdata\\local\\pip\\cache\\wheels\\3f\\7c\\24\\f8816cdb5359accfe50ebbb023baf41e98592f11528ed26ce6\n",
      "Successfully built backtesting\n",
      "Installing collected packages: backtesting\n",
      "Successfully installed backtesting-0.3.3\n"
     ]
    }
   ],
   "source": [
    "!pip install backtesting"
   ]
  },
  {
   "cell_type": "code",
   "execution_count": 9,
   "id": "1dde3a0a",
   "metadata": {},
   "outputs": [
    {
     "name": "stdout",
     "output_type": "stream",
     "text": [
      "Collecting pandas_datareader\n",
      "  Downloading pandas_datareader-0.10.0-py3-none-any.whl (109 kB)\n",
      "Requirement already satisfied: requests>=2.19.0 in c:\\users\\a.minakov\\anaconda3\\lib\\site-packages (from pandas_datareader) (2.26.0)\n",
      "Requirement already satisfied: pandas>=0.23 in c:\\users\\a.minakov\\anaconda3\\lib\\site-packages (from pandas_datareader) (1.3.4)\n",
      "Requirement already satisfied: lxml in c:\\users\\a.minakov\\anaconda3\\lib\\site-packages (from pandas_datareader) (4.6.3)\n",
      "Requirement already satisfied: python-dateutil>=2.7.3 in c:\\users\\a.minakov\\anaconda3\\lib\\site-packages (from pandas>=0.23->pandas_datareader) (2.8.2)\n",
      "Requirement already satisfied: numpy>=1.17.3 in c:\\users\\a.minakov\\anaconda3\\lib\\site-packages (from pandas>=0.23->pandas_datareader) (1.20.3)\n",
      "Requirement already satisfied: pytz>=2017.3 in c:\\users\\a.minakov\\anaconda3\\lib\\site-packages (from pandas>=0.23->pandas_datareader) (2021.3)\n",
      "Requirement already satisfied: six>=1.5 in c:\\users\\a.minakov\\anaconda3\\lib\\site-packages (from python-dateutil>=2.7.3->pandas>=0.23->pandas_datareader) (1.16.0)\n",
      "Requirement already satisfied: charset-normalizer~=2.0.0 in c:\\users\\a.minakov\\anaconda3\\lib\\site-packages (from requests>=2.19.0->pandas_datareader) (2.0.4)\n",
      "Requirement already satisfied: certifi>=2017.4.17 in c:\\users\\a.minakov\\anaconda3\\lib\\site-packages (from requests>=2.19.0->pandas_datareader) (2021.10.8)\n",
      "Requirement already satisfied: urllib3<1.27,>=1.21.1 in c:\\users\\a.minakov\\anaconda3\\lib\\site-packages (from requests>=2.19.0->pandas_datareader) (1.26.7)\n",
      "Requirement already satisfied: idna<4,>=2.5 in c:\\users\\a.minakov\\anaconda3\\lib\\site-packages (from requests>=2.19.0->pandas_datareader) (3.2)\n",
      "Installing collected packages: pandas-datareader\n",
      "Successfully installed pandas-datareader-0.10.0\n"
     ]
    }
   ],
   "source": [
    "!pip install pandas_datareader"
   ]
  },
  {
   "cell_type": "code",
   "execution_count": null,
   "id": "68371832",
   "metadata": {},
   "outputs": [],
   "source": []
  },
  {
   "cell_type": "code",
   "execution_count": null,
   "id": "2a8d775e",
   "metadata": {},
   "outputs": [],
   "source": []
  },
  {
   "cell_type": "code",
   "execution_count": 1,
   "id": "million-springfield",
   "metadata": {},
   "outputs": [],
   "source": [
    "import pandas as pd #Для работы с таблицами данных (дата фреймы)\n",
    "import requests #Для запросов к серверу\n",
    "import json #Для обработки ответов сервера"
   ]
  },
  {
   "cell_type": "code",
   "execution_count": 2,
   "id": "dae836e6",
   "metadata": {},
   "outputs": [],
   "source": [
    "from ipywidgets import widgets  "
   ]
  },
  {
   "cell_type": "code",
   "execution_count": 7,
   "id": "choice-border",
   "metadata": {},
   "outputs": [
    {
     "name": "stderr",
     "output_type": "stream",
     "text": [
      "C:\\Users\\a.minakov\\Anaconda3\\lib\\site-packages\\backtesting\\_plotting.py:50: UserWarning: Jupyter Notebook detected. Setting Bokeh output to notebook. This may not work in Jupyter clients without JavaScript support (e.g. PyCharm, Spyder IDE). Reset with `backtesting.set_bokeh_output(notebook=False)`.\n",
      "  warnings.warn('Jupyter Notebook detected. '\n"
     ]
    },
    {
     "data": {
      "text/html": [
       "\n",
       "    <div class=\"bk-root\">\n",
       "        <a href=\"https://bokeh.org\" target=\"_blank\" class=\"bk-logo bk-logo-small bk-logo-notebook\"></a>\n",
       "        <span id=\"1002\">Loading BokehJS ...</span>\n",
       "    </div>"
      ]
     },
     "metadata": {},
     "output_type": "display_data"
    },
    {
     "data": {
      "application/javascript": [
       "\n",
       "(function(root) {\n",
       "  function now() {\n",
       "    return new Date();\n",
       "  }\n",
       "\n",
       "  const force = true;\n",
       "\n",
       "  if (typeof root._bokeh_onload_callbacks === \"undefined\" || force === true) {\n",
       "    root._bokeh_onload_callbacks = [];\n",
       "    root._bokeh_is_loading = undefined;\n",
       "  }\n",
       "\n",
       "  const JS_MIME_TYPE = 'application/javascript';\n",
       "  const HTML_MIME_TYPE = 'text/html';\n",
       "  const EXEC_MIME_TYPE = 'application/vnd.bokehjs_exec.v0+json';\n",
       "  const CLASS_NAME = 'output_bokeh rendered_html';\n",
       "\n",
       "  /**\n",
       "   * Render data to the DOM node\n",
       "   */\n",
       "  function render(props, node) {\n",
       "    const script = document.createElement(\"script\");\n",
       "    node.appendChild(script);\n",
       "  }\n",
       "\n",
       "  /**\n",
       "   * Handle when an output is cleared or removed\n",
       "   */\n",
       "  function handleClearOutput(event, handle) {\n",
       "    const cell = handle.cell;\n",
       "\n",
       "    const id = cell.output_area._bokeh_element_id;\n",
       "    const server_id = cell.output_area._bokeh_server_id;\n",
       "    // Clean up Bokeh references\n",
       "    if (id != null && id in Bokeh.index) {\n",
       "      Bokeh.index[id].model.document.clear();\n",
       "      delete Bokeh.index[id];\n",
       "    }\n",
       "\n",
       "    if (server_id !== undefined) {\n",
       "      // Clean up Bokeh references\n",
       "      const cmd_clean = \"from bokeh.io.state import curstate; print(curstate().uuid_to_server['\" + server_id + \"'].get_sessions()[0].document.roots[0]._id)\";\n",
       "      cell.notebook.kernel.execute(cmd_clean, {\n",
       "        iopub: {\n",
       "          output: function(msg) {\n",
       "            const id = msg.content.text.trim();\n",
       "            if (id in Bokeh.index) {\n",
       "              Bokeh.index[id].model.document.clear();\n",
       "              delete Bokeh.index[id];\n",
       "            }\n",
       "          }\n",
       "        }\n",
       "      });\n",
       "      // Destroy server and session\n",
       "      const cmd_destroy = \"import bokeh.io.notebook as ion; ion.destroy_server('\" + server_id + \"')\";\n",
       "      cell.notebook.kernel.execute(cmd_destroy);\n",
       "    }\n",
       "  }\n",
       "\n",
       "  /**\n",
       "   * Handle when a new output is added\n",
       "   */\n",
       "  function handleAddOutput(event, handle) {\n",
       "    const output_area = handle.output_area;\n",
       "    const output = handle.output;\n",
       "\n",
       "    // limit handleAddOutput to display_data with EXEC_MIME_TYPE content only\n",
       "    if ((output.output_type != \"display_data\") || (!Object.prototype.hasOwnProperty.call(output.data, EXEC_MIME_TYPE))) {\n",
       "      return\n",
       "    }\n",
       "\n",
       "    const toinsert = output_area.element.find(\".\" + CLASS_NAME.split(' ')[0]);\n",
       "\n",
       "    if (output.metadata[EXEC_MIME_TYPE][\"id\"] !== undefined) {\n",
       "      toinsert[toinsert.length - 1].firstChild.textContent = output.data[JS_MIME_TYPE];\n",
       "      // store reference to embed id on output_area\n",
       "      output_area._bokeh_element_id = output.metadata[EXEC_MIME_TYPE][\"id\"];\n",
       "    }\n",
       "    if (output.metadata[EXEC_MIME_TYPE][\"server_id\"] !== undefined) {\n",
       "      const bk_div = document.createElement(\"div\");\n",
       "      bk_div.innerHTML = output.data[HTML_MIME_TYPE];\n",
       "      const script_attrs = bk_div.children[0].attributes;\n",
       "      for (let i = 0; i < script_attrs.length; i++) {\n",
       "        toinsert[toinsert.length - 1].firstChild.setAttribute(script_attrs[i].name, script_attrs[i].value);\n",
       "        toinsert[toinsert.length - 1].firstChild.textContent = bk_div.children[0].textContent\n",
       "      }\n",
       "      // store reference to server id on output_area\n",
       "      output_area._bokeh_server_id = output.metadata[EXEC_MIME_TYPE][\"server_id\"];\n",
       "    }\n",
       "  }\n",
       "\n",
       "  function register_renderer(events, OutputArea) {\n",
       "\n",
       "    function append_mime(data, metadata, element) {\n",
       "      // create a DOM node to render to\n",
       "      const toinsert = this.create_output_subarea(\n",
       "        metadata,\n",
       "        CLASS_NAME,\n",
       "        EXEC_MIME_TYPE\n",
       "      );\n",
       "      this.keyboard_manager.register_events(toinsert);\n",
       "      // Render to node\n",
       "      const props = {data: data, metadata: metadata[EXEC_MIME_TYPE]};\n",
       "      render(props, toinsert[toinsert.length - 1]);\n",
       "      element.append(toinsert);\n",
       "      return toinsert\n",
       "    }\n",
       "\n",
       "    /* Handle when an output is cleared or removed */\n",
       "    events.on('clear_output.CodeCell', handleClearOutput);\n",
       "    events.on('delete.Cell', handleClearOutput);\n",
       "\n",
       "    /* Handle when a new output is added */\n",
       "    events.on('output_added.OutputArea', handleAddOutput);\n",
       "\n",
       "    /**\n",
       "     * Register the mime type and append_mime function with output_area\n",
       "     */\n",
       "    OutputArea.prototype.register_mime_type(EXEC_MIME_TYPE, append_mime, {\n",
       "      /* Is output safe? */\n",
       "      safe: true,\n",
       "      /* Index of renderer in `output_area.display_order` */\n",
       "      index: 0\n",
       "    });\n",
       "  }\n",
       "\n",
       "  // register the mime type if in Jupyter Notebook environment and previously unregistered\n",
       "  if (root.Jupyter !== undefined) {\n",
       "    const events = require('base/js/events');\n",
       "    const OutputArea = require('notebook/js/outputarea').OutputArea;\n",
       "\n",
       "    if (OutputArea.prototype.mime_types().indexOf(EXEC_MIME_TYPE) == -1) {\n",
       "      register_renderer(events, OutputArea);\n",
       "    }\n",
       "  }\n",
       "\n",
       "  \n",
       "  if (typeof (root._bokeh_timeout) === \"undefined\" || force === true) {\n",
       "    root._bokeh_timeout = Date.now() + 5000;\n",
       "    root._bokeh_failed_load = false;\n",
       "  }\n",
       "\n",
       "  const NB_LOAD_WARNING = {'data': {'text/html':\n",
       "     \"<div style='background-color: #fdd'>\\n\"+\n",
       "     \"<p>\\n\"+\n",
       "     \"BokehJS does not appear to have successfully loaded. If loading BokehJS from CDN, this \\n\"+\n",
       "     \"may be due to a slow or bad network connection. Possible fixes:\\n\"+\n",
       "     \"</p>\\n\"+\n",
       "     \"<ul>\\n\"+\n",
       "     \"<li>re-rerun `output_notebook()` to attempt to load from CDN again, or</li>\\n\"+\n",
       "     \"<li>use INLINE resources instead, as so:</li>\\n\"+\n",
       "     \"</ul>\\n\"+\n",
       "     \"<code>\\n\"+\n",
       "     \"from bokeh.resources import INLINE\\n\"+\n",
       "     \"output_notebook(resources=INLINE)\\n\"+\n",
       "     \"</code>\\n\"+\n",
       "     \"</div>\"}};\n",
       "\n",
       "  function display_loaded() {\n",
       "    const el = document.getElementById(\"1002\");\n",
       "    if (el != null) {\n",
       "      el.textContent = \"BokehJS is loading...\";\n",
       "    }\n",
       "    if (root.Bokeh !== undefined) {\n",
       "      if (el != null) {\n",
       "        el.textContent = \"BokehJS \" + root.Bokeh.version + \" successfully loaded.\";\n",
       "      }\n",
       "    } else if (Date.now() < root._bokeh_timeout) {\n",
       "      setTimeout(display_loaded, 100)\n",
       "    }\n",
       "  }\n",
       "\n",
       "\n",
       "  function run_callbacks() {\n",
       "    try {\n",
       "      root._bokeh_onload_callbacks.forEach(function(callback) {\n",
       "        if (callback != null)\n",
       "          callback();\n",
       "      });\n",
       "    } finally {\n",
       "      delete root._bokeh_onload_callbacks\n",
       "    }\n",
       "    console.debug(\"Bokeh: all callbacks have finished\");\n",
       "  }\n",
       "\n",
       "  function load_libs(css_urls, js_urls, callback) {\n",
       "    if (css_urls == null) css_urls = [];\n",
       "    if (js_urls == null) js_urls = [];\n",
       "\n",
       "    root._bokeh_onload_callbacks.push(callback);\n",
       "    if (root._bokeh_is_loading > 0) {\n",
       "      console.debug(\"Bokeh: BokehJS is being loaded, scheduling callback at\", now());\n",
       "      return null;\n",
       "    }\n",
       "    if (js_urls == null || js_urls.length === 0) {\n",
       "      run_callbacks();\n",
       "      return null;\n",
       "    }\n",
       "    console.debug(\"Bokeh: BokehJS not loaded, scheduling load and callback at\", now());\n",
       "    root._bokeh_is_loading = css_urls.length + js_urls.length;\n",
       "\n",
       "    function on_load() {\n",
       "      root._bokeh_is_loading--;\n",
       "      if (root._bokeh_is_loading === 0) {\n",
       "        console.debug(\"Bokeh: all BokehJS libraries/stylesheets loaded\");\n",
       "        run_callbacks()\n",
       "      }\n",
       "    }\n",
       "\n",
       "    function on_error(url) {\n",
       "      console.error(\"failed to load \" + url);\n",
       "    }\n",
       "\n",
       "    for (let i = 0; i < css_urls.length; i++) {\n",
       "      const url = css_urls[i];\n",
       "      const element = document.createElement(\"link\");\n",
       "      element.onload = on_load;\n",
       "      element.onerror = on_error.bind(null, url);\n",
       "      element.rel = \"stylesheet\";\n",
       "      element.type = \"text/css\";\n",
       "      element.href = url;\n",
       "      console.debug(\"Bokeh: injecting link tag for BokehJS stylesheet: \", url);\n",
       "      document.body.appendChild(element);\n",
       "    }\n",
       "\n",
       "    for (let i = 0; i < js_urls.length; i++) {\n",
       "      const url = js_urls[i];\n",
       "      const element = document.createElement('script');\n",
       "      element.onload = on_load;\n",
       "      element.onerror = on_error.bind(null, url);\n",
       "      element.async = false;\n",
       "      element.src = url;\n",
       "      console.debug(\"Bokeh: injecting script tag for BokehJS library: \", url);\n",
       "      document.head.appendChild(element);\n",
       "    }\n",
       "  };\n",
       "\n",
       "  function inject_raw_css(css) {\n",
       "    const element = document.createElement(\"style\");\n",
       "    element.appendChild(document.createTextNode(css));\n",
       "    document.body.appendChild(element);\n",
       "  }\n",
       "\n",
       "  \n",
       "  const js_urls = [\"https://cdn.bokeh.org/bokeh/release/bokeh-2.4.1.min.js\", \"https://cdn.bokeh.org/bokeh/release/bokeh-gl-2.4.1.min.js\", \"https://cdn.bokeh.org/bokeh/release/bokeh-widgets-2.4.1.min.js\", \"https://cdn.bokeh.org/bokeh/release/bokeh-tables-2.4.1.min.js\", \"https://cdn.bokeh.org/bokeh/release/bokeh-mathjax-2.4.1.min.js\"];\n",
       "  const css_urls = [];\n",
       "  \n",
       "\n",
       "  const inline_js = [\n",
       "    function(Bokeh) {\n",
       "      Bokeh.set_log_level(\"info\");\n",
       "    },\n",
       "    function(Bokeh) {\n",
       "    \n",
       "    \n",
       "    }\n",
       "  ];\n",
       "\n",
       "  function run_inline_js() {\n",
       "    \n",
       "    if (root.Bokeh !== undefined || force === true) {\n",
       "      \n",
       "    for (let i = 0; i < inline_js.length; i++) {\n",
       "      inline_js[i].call(root, root.Bokeh);\n",
       "    }\n",
       "    if (force === true) {\n",
       "        display_loaded();\n",
       "      }} else if (Date.now() < root._bokeh_timeout) {\n",
       "      setTimeout(run_inline_js, 100);\n",
       "    } else if (!root._bokeh_failed_load) {\n",
       "      console.log(\"Bokeh: BokehJS failed to load within specified timeout.\");\n",
       "      root._bokeh_failed_load = true;\n",
       "    } else if (force !== true) {\n",
       "      const cell = $(document.getElementById(\"1002\")).parents('.cell').data().cell;\n",
       "      cell.output_area.append_execute_result(NB_LOAD_WARNING)\n",
       "    }\n",
       "\n",
       "  }\n",
       "\n",
       "  if (root._bokeh_is_loading === 0) {\n",
       "    console.debug(\"Bokeh: BokehJS loaded, going straight to plotting\");\n",
       "    run_inline_js();\n",
       "  } else {\n",
       "    load_libs(css_urls, js_urls, function() {\n",
       "      console.debug(\"Bokeh: BokehJS plotting callback run at\", now());\n",
       "      run_inline_js();\n",
       "    });\n",
       "  }\n",
       "}(window));"
      ],
      "application/vnd.bokehjs_load.v0+json": "\n(function(root) {\n  function now() {\n    return new Date();\n  }\n\n  const force = true;\n\n  if (typeof root._bokeh_onload_callbacks === \"undefined\" || force === true) {\n    root._bokeh_onload_callbacks = [];\n    root._bokeh_is_loading = undefined;\n  }\n\n  \n\n  \n  if (typeof (root._bokeh_timeout) === \"undefined\" || force === true) {\n    root._bokeh_timeout = Date.now() + 5000;\n    root._bokeh_failed_load = false;\n  }\n\n  const NB_LOAD_WARNING = {'data': {'text/html':\n     \"<div style='background-color: #fdd'>\\n\"+\n     \"<p>\\n\"+\n     \"BokehJS does not appear to have successfully loaded. If loading BokehJS from CDN, this \\n\"+\n     \"may be due to a slow or bad network connection. Possible fixes:\\n\"+\n     \"</p>\\n\"+\n     \"<ul>\\n\"+\n     \"<li>re-rerun `output_notebook()` to attempt to load from CDN again, or</li>\\n\"+\n     \"<li>use INLINE resources instead, as so:</li>\\n\"+\n     \"</ul>\\n\"+\n     \"<code>\\n\"+\n     \"from bokeh.resources import INLINE\\n\"+\n     \"output_notebook(resources=INLINE)\\n\"+\n     \"</code>\\n\"+\n     \"</div>\"}};\n\n  function display_loaded() {\n    const el = document.getElementById(\"1002\");\n    if (el != null) {\n      el.textContent = \"BokehJS is loading...\";\n    }\n    if (root.Bokeh !== undefined) {\n      if (el != null) {\n        el.textContent = \"BokehJS \" + root.Bokeh.version + \" successfully loaded.\";\n      }\n    } else if (Date.now() < root._bokeh_timeout) {\n      setTimeout(display_loaded, 100)\n    }\n  }\n\n\n  function run_callbacks() {\n    try {\n      root._bokeh_onload_callbacks.forEach(function(callback) {\n        if (callback != null)\n          callback();\n      });\n    } finally {\n      delete root._bokeh_onload_callbacks\n    }\n    console.debug(\"Bokeh: all callbacks have finished\");\n  }\n\n  function load_libs(css_urls, js_urls, callback) {\n    if (css_urls == null) css_urls = [];\n    if (js_urls == null) js_urls = [];\n\n    root._bokeh_onload_callbacks.push(callback);\n    if (root._bokeh_is_loading > 0) {\n      console.debug(\"Bokeh: BokehJS is being loaded, scheduling callback at\", now());\n      return null;\n    }\n    if (js_urls == null || js_urls.length === 0) {\n      run_callbacks();\n      return null;\n    }\n    console.debug(\"Bokeh: BokehJS not loaded, scheduling load and callback at\", now());\n    root._bokeh_is_loading = css_urls.length + js_urls.length;\n\n    function on_load() {\n      root._bokeh_is_loading--;\n      if (root._bokeh_is_loading === 0) {\n        console.debug(\"Bokeh: all BokehJS libraries/stylesheets loaded\");\n        run_callbacks()\n      }\n    }\n\n    function on_error(url) {\n      console.error(\"failed to load \" + url);\n    }\n\n    for (let i = 0; i < css_urls.length; i++) {\n      const url = css_urls[i];\n      const element = document.createElement(\"link\");\n      element.onload = on_load;\n      element.onerror = on_error.bind(null, url);\n      element.rel = \"stylesheet\";\n      element.type = \"text/css\";\n      element.href = url;\n      console.debug(\"Bokeh: injecting link tag for BokehJS stylesheet: \", url);\n      document.body.appendChild(element);\n    }\n\n    for (let i = 0; i < js_urls.length; i++) {\n      const url = js_urls[i];\n      const element = document.createElement('script');\n      element.onload = on_load;\n      element.onerror = on_error.bind(null, url);\n      element.async = false;\n      element.src = url;\n      console.debug(\"Bokeh: injecting script tag for BokehJS library: \", url);\n      document.head.appendChild(element);\n    }\n  };\n\n  function inject_raw_css(css) {\n    const element = document.createElement(\"style\");\n    element.appendChild(document.createTextNode(css));\n    document.body.appendChild(element);\n  }\n\n  \n  const js_urls = [\"https://cdn.bokeh.org/bokeh/release/bokeh-2.4.1.min.js\", \"https://cdn.bokeh.org/bokeh/release/bokeh-gl-2.4.1.min.js\", \"https://cdn.bokeh.org/bokeh/release/bokeh-widgets-2.4.1.min.js\", \"https://cdn.bokeh.org/bokeh/release/bokeh-tables-2.4.1.min.js\", \"https://cdn.bokeh.org/bokeh/release/bokeh-mathjax-2.4.1.min.js\"];\n  const css_urls = [];\n  \n\n  const inline_js = [\n    function(Bokeh) {\n      Bokeh.set_log_level(\"info\");\n    },\n    function(Bokeh) {\n    \n    \n    }\n  ];\n\n  function run_inline_js() {\n    \n    if (root.Bokeh !== undefined || force === true) {\n      \n    for (let i = 0; i < inline_js.length; i++) {\n      inline_js[i].call(root, root.Bokeh);\n    }\n    if (force === true) {\n        display_loaded();\n      }} else if (Date.now() < root._bokeh_timeout) {\n      setTimeout(run_inline_js, 100);\n    } else if (!root._bokeh_failed_load) {\n      console.log(\"Bokeh: BokehJS failed to load within specified timeout.\");\n      root._bokeh_failed_load = true;\n    } else if (force !== true) {\n      const cell = $(document.getElementById(\"1002\")).parents('.cell').data().cell;\n      cell.output_area.append_execute_result(NB_LOAD_WARNING)\n    }\n\n  }\n\n  if (root._bokeh_is_loading === 0) {\n    console.debug(\"Bokeh: BokehJS loaded, going straight to plotting\");\n    run_inline_js();\n  } else {\n    load_libs(css_urls, js_urls, function() {\n      console.debug(\"Bokeh: BokehJS plotting callback run at\", now());\n      run_inline_js();\n    });\n  }\n}(window));"
     },
     "metadata": {},
     "output_type": "display_data"
    }
   ],
   "source": [
    "import apimoex\n",
    "\n",
    "from backtesting import Backtest, Strategy\n",
    "from backtesting.lib import crossover\n",
    "from backtesting.test import SMA"
   ]
  },
  {
   "cell_type": "code",
   "execution_count": 10,
   "id": "statewide-given",
   "metadata": {},
   "outputs": [],
   "source": [
    "import datetime as dt\n",
    "import pandas_datareader as web\n",
    "import backtesting"
   ]
  },
  {
   "cell_type": "code",
   "execution_count": 11,
   "id": "supported-vermont",
   "metadata": {},
   "outputs": [],
   "source": [
    "# Получаем список всех возможных тикеров для акций и называем его allTickers"
   ]
  },
  {
   "cell_type": "code",
   "execution_count": 12,
   "id": "trying-potato",
   "metadata": {},
   "outputs": [
    {
     "name": "stdout",
     "output_type": "stream",
     "text": [
      "     SECID   SHORTNAME\n",
      "0     ABRD  АбрауДюрсо\n",
      "1     ACKO     АСКО ао\n",
      "2     AFKS  Система ао\n",
      "3     AFLT    Аэрофлот\n",
      "4     AGRO    AGRO-гдр\n",
      "..     ...         ...\n",
      "245   YNDX  Yandex clA\n",
      "246   YRSB     ТНСэнЯр\n",
      "247  YRSBP   ТНСэнЯр-п\n",
      "248   ZILL      ЗИЛ ао\n",
      "249   ZVEZ   ЗВЕЗДА ао\n",
      "\n",
      "[250 rows x 2 columns]\n"
     ]
    }
   ],
   "source": [
    "request_url = ('https://iss.moex.com/iss/engines/stock/'\n",
    "               'markets/shares/boards/TQBR/securities.json')\n",
    "arguments = {'securities.columns': ('SECID,'\n",
    "                                    'SHORTNAME')}\n",
    "with requests.Session() as session:\n",
    "    iss = apimoex.ISSClient(session, request_url, arguments)\n",
    "    data = iss.get()\n",
    "    df_tick = pd.DataFrame(data['securities'])\n",
    "    allTickers = list(df_tick.SECID.unique())\n",
    "    print(df_tick)"
   ]
  },
  {
   "cell_type": "code",
   "execution_count": 13,
   "id": "grateful-medicare",
   "metadata": {},
   "outputs": [
    {
     "name": "stdout",
     "output_type": "stream",
     "text": [
      "['ABRD' 'АбрауДюрсо']\n",
      "['ACKO' 'АСКО ао']\n",
      "['AFKS' 'Система ао']\n",
      "['AFLT' 'Аэрофлот']\n",
      "['AGRO' 'AGRO-гдр']\n",
      "['AKRN' 'Акрон']\n",
      "['ALRS' 'АЛРОСА ао']\n",
      "['AMEZ' 'АшинскийМЗ']\n",
      "['APTK' 'Аптеки36и6']\n",
      "['AQUA' 'ИНАРКТИКА']\n",
      "['ARSA' 'Арсагера']\n",
      "['ASSB' 'АстрЭнСб']\n",
      "['AVAN' 'Авангрд-ао']\n",
      "['BANE' 'Башнефт ао']\n",
      "['BANEP' 'Башнефт ап']\n",
      "['BELU' 'Белуга ао']\n",
      "['BISVP' 'БашИнСв ап']\n",
      "['BLNG' 'Белон ао']\n",
      "['BRZL' 'БурЗолото']\n",
      "['BSPB' 'БСП ао']\n",
      "['BSPBP' 'БСП ап']\n",
      "['CBOM' 'МКБ ао']\n",
      "['CHGZ' 'РН-ЗапСиб']\n",
      "['CHKZ' 'ЧКПЗ ао']\n",
      "['CHMF' 'СевСт-ао']\n",
      "['CHMK' 'ЧМК ао']\n",
      "['CIAN' 'CIAN-адр']\n",
      "['CNTL' 'Телеграф']\n",
      "['CNTLP' 'Телеграф-п']\n",
      "['DIOD' 'ЗаводДИОД']\n",
      "['DSKY' 'ДетскийМир']\n",
      "['DVEC' 'ДЭК ао']\n",
      "['DZRD' 'ДонскЗР']\n",
      "['DZRDP' 'ДонскЗР п']\n",
      "['EELT' 'ЕвроЭлтех']\n",
      "['ELTZ' 'Электрцинк']\n",
      "['ENPG' 'ЭН+ГРУП ао']\n",
      "['ENRU' 'ЭнелРос ао']\n",
      "['ETLN' 'ETLN-гдр']\n",
      "['FEES' 'Россети']\n",
      "['FESH' 'ДВМП ао']\n",
      "['FIVE' 'FIVE-гдр']\n",
      "['FIXP' 'FIXP-гдр']\n",
      "['FLOT' 'Совкомфлот']\n",
      "['GAZA' 'ГАЗ ао']\n",
      "['GAZAP' 'ГАЗ ап']\n",
      "['GAZC' 'ГАЗКОН-ао']\n",
      "['GAZP' 'ГАЗПРОМ ао']\n",
      "['GAZS' 'ГАЗ-сервис']\n",
      "['GAZT' 'ГАЗ-Тек ао']\n",
      "['GCHE' 'ЧеркизГ-ао']\n",
      "['GEMA' 'iММЦБ ао']\n",
      "['GEMC' 'GEMC-гдр']\n",
      "['GLTR' 'GLTR-гдр']\n",
      "['GMKN' 'ГМКНорНик']\n",
      "['GTRK' 'ГТМ ао']\n",
      "['HHRU' 'iHHRU-адр']\n",
      "['HIMCP' 'Химпром ап']\n",
      "['HMSG' 'HMSG-гдр']\n",
      "['HYDR' 'РусГидро']\n",
      "['IGST' 'Ижсталь2ао']\n",
      "['IGSTP' 'Ижсталь ап']\n",
      "['INGR' 'ИНГРАД ао']\n",
      "['IRAO' 'ИнтерРАОао']\n",
      "['IRGZ' 'ИркЭнерго']\n",
      "['IRKT' 'ИРКУТ-3']\n",
      "['ISKJ' 'iИСКЧ ао']\n",
      "['JNOS' 'Славн-ЯНОС']\n",
      "['JNOSP' 'Слав-ЯНОСп']\n",
      "['KAZT' 'Куйбазот']\n",
      "['KAZTP' 'Куйбазот-п']\n",
      "['KBSB' 'ТНСэКубань']\n",
      "['KCHE' 'КамчатЭ ао']\n",
      "['KCHEP' 'КамчатЭ ап']\n",
      "['KGKC' 'КурганГКао']\n",
      "['KGKCP' 'КурганГКап']\n",
      "['KLSB' 'КалужскСК']\n",
      "['KMAZ' 'КАМАЗ']\n",
      "['KMEZ' 'КМЗ']\n",
      "['KMTZ' 'КосогМЗ ао']\n",
      "['KOGK' 'КоршГОК ао']\n",
      "['KRKN' 'СаратНПЗ']\n",
      "['KRKNP' 'СаратНПЗ-п']\n",
      "['KRKOP' 'ТКЗКК ап']\n",
      "['KROT' 'КрасОкт-ао']\n",
      "['KROTP' 'КрасОкт-1п']\n",
      "['KRSB' 'Красэсб ао']\n",
      "['KRSBP' 'Красэсб ап']\n",
      "['KTSB' 'КСБ ао']\n",
      "['KTSBP' 'КСБ ап']\n",
      "['KUBE' 'РСетКубань']\n",
      "['KUZB' 'КузнецкийБ']\n",
      "['KZOS' 'ОргСинт ао']\n",
      "['KZOSP' 'ОргСинт ап']\n",
      "['LENT' 'Лента ао']\n",
      "['LIFE' 'iФармсинтз']\n",
      "['LKOH' 'ЛУКОЙЛ']\n",
      "['LNZL' 'Лензолото']\n",
      "['LNZLP' 'Лензол. ап']\n",
      "['LPSB' 'ЛЭСК ао']\n",
      "['LSNG' 'РСетиЛЭ']\n",
      "['LSNGP' 'РСетиЛЭ-п']\n",
      "['LSRG' 'ЛСР ао']\n",
      "['LVHK' 'Левенгук']\n",
      "['MAGE' 'МагадЭн ао']\n",
      "['MAGEP' 'МагадЭн ап']\n",
      "['MAGN' 'ММК']\n",
      "['MDMG' 'MDMG-гдр']\n",
      "['MFGS' 'Мегион-ао']\n",
      "['MFGSP' 'Мегион-ап']\n",
      "['MGNT' 'Магнит ао']\n",
      "['MGNZ' 'СМЗ-ао']\n",
      "['MGTS' 'МГТС-5ао']\n",
      "['MGTSP' 'МГТС-4ап']\n",
      "['MISB' 'ТНСэнМарЭл']\n",
      "['MISBP' 'ТНСэМаЭл-п']\n",
      "['MOEX' 'МосБиржа']\n",
      "['MRKC' 'РоссЦентр']\n",
      "['MRKK' 'Россети СК']\n",
      "['MRKP' 'РСетиЦП ао']\n",
      "['MRKS' 'РсетСиб ао']\n",
      "['MRKU' 'МРСК Ур']\n",
      "['MRKV' 'РсетВол ао']\n",
      "['MRKY' 'РоссЮг ао']\n",
      "['MRKZ' 'РСетиСЗ ао']\n",
      "['MRSB' 'МордЭнСб']\n",
      "['MSNG' '+МосЭнерго']\n",
      "['MSRS' 'РСетиМР ао']\n",
      "['MSTT' 'Мостотрест']\n",
      "['MTLR' 'Мечел ао']\n",
      "['MTLRP' 'Мечел ап']\n",
      "['MTSS' 'МТС-ао']\n",
      "['MVID' 'М.видео']\n",
      "['NAUK' 'iНПОНаука']\n",
      "['NFAZ' 'НЕФАЗ']\n",
      "['NKHP' 'НКХП ао']\n",
      "['NKNC' 'НКНХ ао']\n",
      "['NKNCP' 'НКНХ ап']\n",
      "['NKSH' 'Нижкамшина']\n",
      "['NLMK' 'НЛМК ао']\n",
      "['NMTP' 'НМТП ао']\n",
      "['NNSB' 'ТНСэнНН ао']\n",
      "['NNSBP' 'ТНСэнНН ап']\n",
      "['NSVZ' 'iНаукаСвяз']\n",
      "['NVTK' 'Новатэк ао']\n",
      "['OGKB' 'ОГК-2 ао']\n",
      "['OKEY' 'OKEY-гдр']\n",
      "['OMZZP' 'ОМЗ-ап']\n",
      "['OZON' 'OZON-адр']\n",
      "['PAZA' 'ПавлАвт ао']\n",
      "['PHOR' 'ФосАгро ао']\n",
      "['PIKK' 'ПИК ао']\n",
      "['PLZL' 'Полюс']\n",
      "['PMSB' 'ПермьЭнСб']\n",
      "['PMSBP' 'ПермьЭнС-п']\n",
      "['POLY' 'Polymetal']\n",
      "['POSI' 'iПозитив']\n",
      "['PRMB' 'Приморье']\n",
      "['QIWI' 'iQIWI']\n",
      "['RASP' 'Распадская']\n",
      "['RBCM' 'ГК РБК ао']\n",
      "['RDRB' 'РДБанк ао']\n",
      "['RENI' 'Ренессанс']\n",
      "['RGSS' 'РГС СК ао']\n",
      "['RKKE' 'ЭнергияРКК']\n",
      "['RNFT' 'РуссНфт ао']\n",
      "['ROLO' 'Русолово']\n",
      "['ROSB' 'Росбанк ао']\n",
      "['ROSN' 'Роснефть']\n",
      "['ROST' 'РОСИНТЕРао']\n",
      "['RSTI' 'Россети ао']\n",
      "['RSTIP' 'Россети ап']\n",
      "['RTGZ' 'ГазпРнД ао']\n",
      "['RTKM' 'Ростел -ао']\n",
      "['RTKMP' 'Ростел -ап']\n",
      "['RTSB' 'ТНСэнРст']\n",
      "['RTSBP' 'ТНСэнРст-п']\n",
      "['RUAL' 'РУСАЛ ао']\n",
      "['RUSI' 'ИКРУСС-ИНВ']\n",
      "['RZSB' 'РязЭнСб']\n",
      "['SAGO' 'СамарЭн-ао']\n",
      "['SAGOP' 'СамарЭн-ап']\n",
      "['SARE' 'СаратЭн-ао']\n",
      "['SAREP' 'СаратЭн-ап']\n",
      "['SBER' 'Сбербанк']\n",
      "['SBERP' 'Сбербанк-п']\n",
      "['SELG' 'Селигдар']\n",
      "['SFIN' 'ЭсЭфАй ао']\n",
      "['SFTL' 'iSFTL-гдр']\n",
      "['SGZH' 'Сегежа']\n",
      "['SIBN' 'Газпрнефть']\n",
      "['SLEN' 'Сахэнер ао']\n",
      "['SMLT' 'Самолет ао']\n",
      "['SNGS' 'Сургнфгз']\n",
      "['SNGSP' 'Сургнфгз-п']\n",
      "['SPBE' 'СПБ Биржа']\n",
      "['STSB' 'СтаврЭнСб']\n",
      "['STSBP' 'СтаврЭнСбп']\n",
      "['SVAV' 'СОЛЛЕРС']\n",
      "['SVET' 'Светофор']\n",
      "['TASB' 'ТамбЭнСб']\n",
      "['TASBP' 'ТамбЭнСб-п']\n",
      "['TATN' 'Татнфт 3ао']\n",
      "['TATNP' 'Татнфт 3ап']\n",
      "['TCSG' 'TCS-гдр']\n",
      "['TGKA' 'ТГК-1']\n",
      "['TGKB' 'ТГК-2']\n",
      "['TGKBP' 'ТГК-2 ап']\n",
      "['TGKD' 'Квадра']\n",
      "['TGKDP' 'Квадра-п']\n",
      "['TGKN' 'ТГК-14']\n",
      "['TNSE' 'ТНСэнрг ао']\n",
      "['TORS' 'ТРК ао']\n",
      "['TORSP' 'ТРК ап']\n",
      "['TRMK' 'ТМК ао']\n",
      "['TRNFP' 'Транснф ап']\n",
      "['TTLK' 'Таттел. ао']\n",
      "['TUZA' 'ТЗА ао']\n",
      "['UCSS' 'ОКС ао']\n",
      "['UKUZ' 'ЮжКузб. ао']\n",
      "['UNAC' 'iАвиастКао']\n",
      "['UNKL' 'ЮУНК ао']\n",
      "['UPRO' 'Юнипро ао']\n",
      "['URKZ' 'УрКузница']\n",
      "['USBN' 'УралСиб ао']\n",
      "['UTAR' 'ЮТэйр ао']\n",
      "['VEON-RX' 'VEON']\n",
      "['VGSB' 'ВолгЭнСб']\n",
      "['VGSBP' 'ВолгЭнСб-п']\n",
      "['VJGZ' 'Варьеган']\n",
      "['VJGZP' 'Варьеган-п']\n",
      "['VKCO' 'VK-гдр']\n",
      "['VLHZ' 'ВХЗ-ао']\n",
      "['VRSB' 'ТНСэнВорон']\n",
      "['VRSBP' 'ТНСэнВор-п']\n",
      "['VSMO' 'ВСМПО-АВСМ']\n",
      "['VSYD' 'ВыбСудЗ ао']\n",
      "['VSYDP' 'ВыбСудЗ ап']\n",
      "['VTBR' 'ВТБ ао']\n",
      "['WTCM' 'ЦМТ ао']\n",
      "['WTCMP' 'ЦМТ ап']\n",
      "['WUSH' 'ВУШХолдинг']\n",
      "['YAKG' 'ЯТЭК ао']\n",
      "['YKEN' 'Якутскэнрг']\n",
      "['YKENP' 'Якутскэн-п']\n",
      "['YNDX' 'Yandex clA']\n",
      "['YRSB' 'ТНСэнЯр']\n",
      "['YRSBP' 'ТНСэнЯр-п']\n",
      "['ZILL' 'ЗИЛ ао']\n",
      "['ZVEZ' 'ЗВЕЗДА ао']\n"
     ]
    }
   ],
   "source": [
    "for i in df_tick.values:\n",
    "    print(i)"
   ]
  },
  {
   "cell_type": "code",
   "execution_count": 156,
   "id": "bound-butler",
   "metadata": {},
   "outputs": [],
   "source": [
    "# Пусть нас интересуют 5 тикеров компаний из разных областей : Газпром, X5, Сбер, НорНикель, Яндекс"
   ]
  },
  {
   "cell_type": "markdown",
   "id": "helpful-valve",
   "metadata": {},
   "source": [
    "## Тут важная часть - определяем нужные данные"
   ]
  },
  {
   "cell_type": "code",
   "execution_count": 57,
   "id": "4bea4d5c",
   "metadata": {},
   "outputs": [
    {
     "data": {
      "application/vnd.jupyter.widget-view+json": {
       "model_id": "727bfdd9a52a4b3592c37afe39102806",
       "version_major": 2,
       "version_minor": 0
      },
      "text/plain": [
       "SelectMultiple(description='Тикеры', options=('ABRD', 'ACKO', 'AFKS', 'AFLT', 'AGRO', 'AKRN', 'ALRS', 'AMEZ', …"
      ]
     },
     "metadata": {},
     "output_type": "display_data"
    }
   ],
   "source": [
    "myTickers = widgets.SelectMultiple(\n",
    "    options=df_tick[\"SECID\"].values,\n",
    "    description='Тикеры',\n",
    "    disabled=False\n",
    ")\n",
    "\n",
    "display(myTickers)"
   ]
  },
  {
   "cell_type": "code",
   "execution_count": 58,
   "id": "0de09bfb",
   "metadata": {},
   "outputs": [
    {
     "data": {
      "text/plain": [
       "('FIVE', 'GAZP', 'GMKN', 'SBER', 'YNDX')"
      ]
     },
     "execution_count": 58,
     "metadata": {},
     "output_type": "execute_result"
    }
   ],
   "source": [
    "myTickers.value"
   ]
  },
  {
   "cell_type": "code",
   "execution_count": 79,
   "id": "3c5424a3",
   "metadata": {},
   "outputs": [
    {
     "data": {
      "application/vnd.jupyter.widget-view+json": {
       "model_id": "b85c876105054759b70d009e9b27cb80",
       "version_major": 2,
       "version_minor": 0
      },
      "text/plain": [
       "DatePicker(value=None, description='старт')"
      ]
     },
     "metadata": {},
     "output_type": "display_data"
    },
    {
     "data": {
      "application/vnd.jupyter.widget-view+json": {
       "model_id": "201988840a7d4d1a8906e947d36b1b76",
       "version_major": 2,
       "version_minor": 0
      },
      "text/plain": [
       "DatePicker(value=None, description='конец')"
      ]
     },
     "metadata": {},
     "output_type": "display_data"
    }
   ],
   "source": [
    "start_date = widgets.DatePicker(description = 'старт')\n",
    "end_date = widgets.DatePicker(description = 'конец')\n",
    "display(start_date)\n",
    "display(end_date)"
   ]
  },
  {
   "cell_type": "code",
   "execution_count": 81,
   "id": "egyptian-happiness",
   "metadata": {},
   "outputs": [],
   "source": [
    "# Пользовательский ввод\n",
    "upper_limits = [1800, 250, 20000, 120, 1500]\n",
    "lower_limits = [1000, 180, 10000, 80, 1000]"
   ]
  },
  {
   "cell_type": "code",
   "execution_count": 82,
   "id": "express-projection",
   "metadata": {},
   "outputs": [],
   "source": [
    "## Пример простой стратегии, могу сделать более сложные примеры через talib\n",
    "# Пользовательский ввод\n",
    "\n",
    "class SmaCross(Strategy):\n",
    "    # Define the two MA lags as *class variables*\n",
    "    # for later optimization\n",
    "    n1 = 10\n",
    "    n2 = 20\n",
    "    \n",
    "    def init(self):\n",
    "        # Precompute the two moving averages\n",
    "        price = self.data.Close\n",
    "        self.sma1 = self.I(SMA, self.data.Close, self.n1)\n",
    "        self.sma2 = self.I(SMA, self.data.Close, self.n2)\n",
    "    \n",
    "    def next(self):\n",
    "        # If sma1 crosses above sma2, close any existing\n",
    "        # short trades, and buy the asset\n",
    "        if crossover(self.sma1, self.sma2):\n",
    "            self.position.close()\n",
    "            self.buy()\n",
    "\n",
    "        # Else, if sma1 crosses below sma2, close any existing\n",
    "        # long trades, and sell the asset\n",
    "        elif crossover(self.sma2, self.sma1):\n",
    "            self.position.close()\n",
    "            self.sell()"
   ]
  },
  {
   "cell_type": "code",
   "execution_count": 83,
   "id": "604d630c",
   "metadata": {},
   "outputs": [
    {
     "data": {
      "application/vnd.jupyter.widget-view+json": {
       "model_id": "acb4f2ddbc504e4fa98a9be0cac5a358",
       "version_major": 2,
       "version_minor": 0
      },
      "text/plain": [
       "Dropdown(description='Strategy:', options=(('SmaCross', <class '__main__.SmaCross'>),), value=<class '__main__…"
      ]
     },
     "metadata": {},
     "output_type": "display_data"
    }
   ],
   "source": [
    "strategy = widgets.Dropdown(\n",
    "    options=[('SmaCross', SmaCross)],\n",
    "    description='Strategy:',\n",
    "    disabled=False,\n",
    ")\n",
    "\n",
    "display(strategy)"
   ]
  },
  {
   "cell_type": "code",
   "execution_count": 84,
   "id": "fc1f9f18",
   "metadata": {},
   "outputs": [],
   "source": [
    "strategy = strategy.value"
   ]
  },
  {
   "cell_type": "code",
   "execution_count": 85,
   "id": "c465e123",
   "metadata": {},
   "outputs": [
    {
     "data": {
      "application/vnd.jupyter.widget-view+json": {
       "model_id": "1e66bf2c455d43be9d7fccc1c2cf6afb",
       "version_major": 2,
       "version_minor": 0
      },
      "text/plain": [
       "IntText(value=0, description='Cash:')"
      ]
     },
     "metadata": {},
     "output_type": "display_data"
    }
   ],
   "source": [
    "cash = widgets.IntText(\n",
    "    description='Cash:',\n",
    "    disabled=False\n",
    ")\n",
    "\n",
    "display(cash)"
   ]
  },
  {
   "cell_type": "code",
   "execution_count": 86,
   "id": "e7438ed9",
   "metadata": {},
   "outputs": [],
   "source": [
    "cash = cash.value"
   ]
  },
  {
   "cell_type": "code",
   "execution_count": 91,
   "id": "7e8d21f7",
   "metadata": {},
   "outputs": [
    {
     "data": {
      "application/vnd.jupyter.widget-view+json": {
       "model_id": "71038ed068cd412f9c334131ecd2b577",
       "version_major": 2,
       "version_minor": 0
      },
      "text/plain": [
       "FloatSlider(value=0.0, continuous_update=False, description='Commission:', max=0.5, step=0.01)"
      ]
     },
     "metadata": {},
     "output_type": "display_data"
    }
   ],
   "source": [
    "commission = widgets.FloatSlider(\n",
    "    min=0,\n",
    "    max=.5,\n",
    "    step=0.01,\n",
    "    description='Commission:',\n",
    "    disabled=False,\n",
    "    continuous_update=False,\n",
    "    orientation='horizontal',\n",
    "    readout_format='.2f',\n",
    ")\n",
    "\n",
    "display(commission)"
   ]
  },
  {
   "cell_type": "code",
   "execution_count": 92,
   "id": "7b90d4f6",
   "metadata": {},
   "outputs": [],
   "source": [
    "commission = commission.value"
   ]
  },
  {
   "cell_type": "code",
   "execution_count": 93,
   "id": "divine-maintenance",
   "metadata": {},
   "outputs": [],
   "source": [
    "start = start_date.value\n",
    "end = end_date.value"
   ]
  },
  {
   "cell_type": "code",
   "execution_count": 89,
   "id": "federal-waterproof",
   "metadata": {
    "scrolled": true
   },
   "outputs": [],
   "source": [
    "# Способ получения данных через apimoex\n",
    "# with requests.Session() as session:\n",
    "#     for tick in myTickers:\n",
    "#         data = apimoex.get_board_history(session, tick, start = '2018-01-01')\n",
    "#         pd.DataFrame(data).to_excel(f'{tick}_data.xlsx', index = False)\n",
    "#         print(f'Данные {tick} получены и записаны')\n",
    "#         print('------')"
   ]
  },
  {
   "cell_type": "code",
   "execution_count": 90,
   "id": "indoor-workstation",
   "metadata": {
    "scrolled": true
   },
   "outputs": [
    {
     "name": "stdout",
     "output_type": "stream",
     "text": [
      "Данные FIVE получены и записаны\n",
      "------\n",
      "Данные GAZP получены и записаны\n",
      "------\n",
      "Данные GMKN получены и записаны\n",
      "------\n",
      "Данные SBER получены и записаны\n",
      "------\n",
      "Данные YNDX получены и записаны\n",
      "------\n"
     ]
    }
   ],
   "source": [
    "# Получение данных через DataReader, занимает дольше времени, но больше возможностей\n",
    "for tick in myTickers.value:\n",
    "    data = web.DataReader(tick, 'moex',start, end )\n",
    "    pd.DataFrame(data).to_excel(f'{tick}_data.xlsx', index = True)\n",
    "    print(f'Данные {tick} получены и записаны')\n",
    "    print('------')"
   ]
  },
  {
   "cell_type": "code",
   "execution_count": 94,
   "id": "7deecd2d",
   "metadata": {},
   "outputs": [],
   "source": [
    "def process_data(ticker):\n",
    "    ticker = ticker.lower()\n",
    "    data = pd.read_excel(f'{ticker}_data.xlsx', \n",
    "                         index_col = 0, \n",
    "                         usecols = ['TRADEDATE','VALUE','VOLUME','OPEN','HIGH','LOW','CLOSE'])\n",
    "    data.columns = ['Close', 'High', 'Low', 'Open', 'Value', 'Volume']\n",
    "    data.dropna(inplace = True)\n",
    "    return data"
   ]
  },
  {
   "cell_type": "code",
   "execution_count": 95,
   "id": "67ca1d03",
   "metadata": {},
   "outputs": [],
   "source": [
    "data = {ticker: process_data(ticker) for ticker in myTickers.value}"
   ]
  },
  {
   "cell_type": "code",
   "execution_count": 96,
   "id": "29fa53a2",
   "metadata": {},
   "outputs": [
    {
     "name": "stdout",
     "output_type": "stream",
     "text": [
      "FIVE\n",
      "<class 'pandas.core.frame.DataFrame'>\n",
      "DatetimeIndex: 1214 entries, 2018-02-01 to 2022-12-20\n",
      "Data columns (total 6 columns):\n",
      " #   Column  Non-Null Count  Dtype  \n",
      "---  ------  --------------  -----  \n",
      " 0   Close   1214 non-null   float64\n",
      " 1   High    1214 non-null   float64\n",
      " 2   Low     1214 non-null   float64\n",
      " 3   Open    1214 non-null   float64\n",
      " 4   Value   1214 non-null   float64\n",
      " 5   Volume  1214 non-null   int64  \n",
      "dtypes: float64(5), int64(1)\n",
      "memory usage: 66.4 KB\n",
      "\n",
      "---------------------------\n",
      "\n",
      "GAZP\n",
      "<class 'pandas.core.frame.DataFrame'>\n",
      "DatetimeIndex: 1237 entries, 2018-01-03 to 2022-12-20\n",
      "Data columns (total 6 columns):\n",
      " #   Column  Non-Null Count  Dtype  \n",
      "---  ------  --------------  -----  \n",
      " 0   Close   1237 non-null   float64\n",
      " 1   High    1237 non-null   float64\n",
      " 2   Low     1237 non-null   float64\n",
      " 3   Open    1237 non-null   float64\n",
      " 4   Value   1237 non-null   float64\n",
      " 5   Volume  1237 non-null   int64  \n",
      "dtypes: float64(5), int64(1)\n",
      "memory usage: 67.6 KB\n",
      "\n",
      "---------------------------\n",
      "\n",
      "GMKN\n",
      "<class 'pandas.core.frame.DataFrame'>\n",
      "DatetimeIndex: 1237 entries, 2018-01-03 to 2022-12-20\n",
      "Data columns (total 6 columns):\n",
      " #   Column  Non-Null Count  Dtype  \n",
      "---  ------  --------------  -----  \n",
      " 0   Close   1237 non-null   float64\n",
      " 1   High    1237 non-null   float64\n",
      " 2   Low     1237 non-null   float64\n",
      " 3   Open    1237 non-null   float64\n",
      " 4   Value   1237 non-null   int64  \n",
      " 5   Volume  1237 non-null   int64  \n",
      "dtypes: float64(4), int64(2)\n",
      "memory usage: 67.6 KB\n",
      "\n",
      "---------------------------\n",
      "\n",
      "SBER\n",
      "<class 'pandas.core.frame.DataFrame'>\n",
      "DatetimeIndex: 1237 entries, 2018-01-03 to 2022-12-20\n",
      "Data columns (total 6 columns):\n",
      " #   Column  Non-Null Count  Dtype  \n",
      "---  ------  --------------  -----  \n",
      " 0   Close   1237 non-null   float64\n",
      " 1   High    1237 non-null   float64\n",
      " 2   Low     1237 non-null   float64\n",
      " 3   Open    1237 non-null   float64\n",
      " 4   Value   1237 non-null   float64\n",
      " 5   Volume  1237 non-null   int64  \n",
      "dtypes: float64(5), int64(1)\n",
      "memory usage: 67.6 KB\n",
      "\n",
      "---------------------------\n",
      "\n",
      "YNDX\n",
      "<class 'pandas.core.frame.DataFrame'>\n",
      "DatetimeIndex: 1234 entries, 2018-01-03 to 2022-12-20\n",
      "Data columns (total 6 columns):\n",
      " #   Column  Non-Null Count  Dtype  \n",
      "---  ------  --------------  -----  \n",
      " 0   Close   1234 non-null   float64\n",
      " 1   High    1234 non-null   float64\n",
      " 2   Low     1234 non-null   float64\n",
      " 3   Open    1234 non-null   float64\n",
      " 4   Value   1234 non-null   float64\n",
      " 5   Volume  1234 non-null   int64  \n",
      "dtypes: float64(5), int64(1)\n",
      "memory usage: 67.5 KB\n",
      "\n",
      "---------------------------\n",
      "\n"
     ]
    }
   ],
   "source": [
    "for ticker, df in data.items(): \n",
    "    print(ticker)\n",
    "    df.info()\n",
    "    print(\"\\n---------------------------\\n\")"
   ]
  },
  {
   "cell_type": "code",
   "execution_count": 97,
   "id": "crucial-graphics",
   "metadata": {},
   "outputs": [],
   "source": [
    "### Backtesting"
   ]
  },
  {
   "cell_type": "code",
   "execution_count": 99,
   "id": "regulation-reproduction",
   "metadata": {},
   "outputs": [
    {
     "data": {
      "text/plain": [
       "('FIVE', 'GAZP', 'GMKN', 'SBER', 'YNDX')"
      ]
     },
     "execution_count": 99,
     "metadata": {},
     "output_type": "execute_result"
    }
   ],
   "source": [
    "myTickers.value"
   ]
  },
  {
   "cell_type": "code",
   "execution_count": 177,
   "id": "general-factory",
   "metadata": {},
   "outputs": [],
   "source": [
    "# Сначала запускаем тест стратегии с выбранными параметрами для всех тикеров,\n",
    "# а потом оптимизируем для одной гиперпараметры, максимизируя конечную прибыль\n",
    "# Можно показать разницу и сделать сравнительную таблицу (?)"
   ]
  },
  {
   "cell_type": "code",
   "execution_count": 40,
   "id": "sound-commercial",
   "metadata": {
    "scrolled": true
   },
   "outputs": [],
   "source": [
    "# for data_source, tick in zip(data.values(), myTickers.value):\n",
    "#     backtest = Backtest(data_source, SmaCross, cash=cash, commission = commission, exclusive_orders = True)\n",
    "#     stats = backtest.run()\n",
    "#     print(f'Stats for {tick}\\n--------------')\n",
    "#     print(stats)\n",
    "#     print('\\n---------------------------------------------\\n')\n",
    "#     backtest.plot(filename = f'{tick}_plot')"
   ]
  },
  {
   "cell_type": "code",
   "execution_count": 100,
   "id": "opponent-college",
   "metadata": {
    "scrolled": false
   },
   "outputs": [
    {
     "name": "stdout",
     "output_type": "stream",
     "text": [
      "Stats for FIVE before optimize\n",
      "--------------\n",
      "Start                     2018-02-01 00:00:00\n",
      "End                       2022-12-20 00:00:00\n",
      "Duration                   1783 days 00:00:00\n",
      "Exposure Time [%]                   96.293245\n",
      "Equity Final [$]                     446431.5\n",
      "Equity Peak [$]                     1138010.0\n",
      "Return [%]                          -55.35685\n",
      "Buy & Hold Return [%]              -25.876777\n",
      "Return (Ann.) [%]                  -15.414344\n",
      "Volatility (Ann.) [%]               33.313643\n",
      "Sharpe Ratio                              0.0\n",
      "Sortino Ratio                             0.0\n",
      "Calmar Ratio                              0.0\n",
      "Max. Drawdown [%]                  -64.686382\n",
      "Avg. Drawdown [%]                  -12.129204\n",
      "Max. Drawdown Duration     1560 days 00:00:00\n",
      "Avg. Drawdown Duration      191 days 00:00:00\n",
      "# Trades                                   68\n",
      "Win Rate [%]                        45.588235\n",
      "Best Trade [%]                      33.197556\n",
      "Worst Trade [%]                    -35.687204\n",
      "Avg. Trade [%]                       -1.18011\n",
      "Max. Trade Duration         124 days 00:00:00\n",
      "Avg. Trade Duration          26 days 00:00:00\n",
      "Profit Factor                        0.813503\n",
      "Expectancy [%]                      -0.640098\n",
      "SQN                                 -0.971664\n",
      "_strategy                            SmaCross\n",
      "_equity_curve                            E...\n",
      "_trades                       Size  EntryB...\n",
      "dtype: object\n",
      "\n",
      "Stats for FIVE after optimize\n",
      "--------------\n"
     ]
    },
    {
     "data": {
      "application/vnd.jupyter.widget-view+json": {
       "model_id": "",
       "version_major": 2,
       "version_minor": 0
      },
      "text/plain": [
       "  0%|          | 0/9 [00:00<?, ?it/s]"
      ]
     },
     "metadata": {},
     "output_type": "display_data"
    },
    {
     "name": "stdout",
     "output_type": "stream",
     "text": [
      "Start                     2018-02-01 00:00:00\n",
      "End                       2022-12-20 00:00:00\n",
      "Duration                   1783 days 00:00:00\n",
      "Exposure Time [%]                   83.772652\n",
      "Equity Final [$]                    1378560.0\n",
      "Equity Peak [$]                     1597539.5\n",
      "Return [%]                             37.856\n",
      "Buy & Hold Return [%]              -25.876777\n",
      "Return (Ann.) [%]                    6.891147\n",
      "Volatility (Ann.) [%]               33.309727\n",
      "Sharpe Ratio                         0.206881\n",
      "Sortino Ratio                        0.337563\n",
      "Calmar Ratio                         0.170187\n",
      "Max. Drawdown [%]                  -40.491525\n",
      "Avg. Drawdown [%]                   -8.612136\n",
      "Max. Drawdown Duration     1180 days 00:00:00\n",
      "Avg. Drawdown Duration       83 days 00:00:00\n",
      "# Trades                                   21\n",
      "Win Rate [%]                        38.095238\n",
      "Best Trade [%]                      50.200089\n",
      "Worst Trade [%]                    -16.144725\n",
      "Avg. Trade [%]                       1.540701\n",
      "Max. Trade Duration         233 days 00:00:00\n",
      "Avg. Trade Duration          72 days 00:00:00\n",
      "Profit Factor                        1.680303\n",
      "Expectancy [%]                       2.420213\n",
      "SQN                                  0.644263\n",
      "_strategy                 SmaCross(n1=15,n...\n",
      "_equity_curve                            E...\n",
      "_trades                       Size  EntryB...\n",
      "dtype: object\n",
      "SmaCross(n1=15,n2=65)\n",
      "\n",
      "---------------------------------------------\n",
      "\n",
      "Stats for GAZP before optimize\n",
      "--------------\n",
      "Start                     2018-01-03 00:00:00\n",
      "End                       2022-12-20 00:00:00\n",
      "Duration                   1812 days 00:00:00\n",
      "Exposure Time [%]                   98.059822\n",
      "Equity Final [$]                   1218315.92\n",
      "Equity Peak [$]                    1309495.32\n",
      "Return [%]                          21.831592\n",
      "Buy & Hold Return [%]               20.226929\n",
      "Return (Ann.) [%]                    4.104834\n",
      "Volatility (Ann.) [%]               43.640939\n",
      "Sharpe Ratio                         0.094059\n",
      "Sortino Ratio                        0.173532\n",
      "Calmar Ratio                         0.070789\n",
      "Max. Drawdown [%]                  -57.986764\n",
      "Avg. Drawdown [%]                  -16.161217\n",
      "Max. Drawdown Duration     1305 days 00:00:00\n",
      "Avg. Drawdown Duration      253 days 00:00:00\n",
      "# Trades                                   67\n",
      "Win Rate [%]                        32.835821\n",
      "Best Trade [%]                      35.058431\n",
      "Worst Trade [%]                    -23.578092\n",
      "Avg. Trade [%]                       0.295238\n",
      "Max. Trade Duration         104 days 00:00:00\n",
      "Avg. Trade Duration          27 days 00:00:00\n",
      "Profit Factor                         1.26138\n",
      "Expectancy [%]                       0.829465\n",
      "SQN                                   0.31017\n",
      "_strategy                            SmaCross\n",
      "_equity_curve                             ...\n",
      "_trades                       Size  EntryB...\n",
      "dtype: object\n",
      "\n",
      "Stats for GAZP after optimize\n",
      "--------------\n"
     ]
    },
    {
     "data": {
      "application/vnd.jupyter.widget-view+json": {
       "model_id": "",
       "version_major": 2,
       "version_minor": 0
      },
      "text/plain": [
       "  0%|          | 0/9 [00:00<?, ?it/s]"
      ]
     },
     "metadata": {},
     "output_type": "display_data"
    },
    {
     "name": "stdout",
     "output_type": "stream",
     "text": [
      "Start                     2018-01-03 00:00:00\n",
      "End                       2022-12-20 00:00:00\n",
      "Duration                   1812 days 00:00:00\n",
      "Exposure Time [%]                   98.544867\n",
      "Equity Final [$]                   3656267.62\n",
      "Equity Peak [$]                    3656267.62\n",
      "Return [%]                         265.626762\n",
      "Buy & Hold Return [%]               20.226929\n",
      "Return (Ann.) [%]                   30.227094\n",
      "Volatility (Ann.) [%]               49.320962\n",
      "Sharpe Ratio                         0.612865\n",
      "Sortino Ratio                        1.487333\n",
      "Calmar Ratio                          0.63451\n",
      "Max. Drawdown [%]                  -47.638461\n",
      "Avg. Drawdown [%]                   -6.178586\n",
      "Max. Drawdown Duration     1210 days 00:00:00\n",
      "Avg. Drawdown Duration       61 days 00:00:00\n",
      "# Trades                                  126\n",
      "Win Rate [%]                        44.444444\n",
      "Best Trade [%]                      36.578354\n",
      "Worst Trade [%]                    -18.404908\n",
      "Avg. Trade [%]                       1.034261\n",
      "Max. Trade Duration          55 days 00:00:00\n",
      "Avg. Trade Duration          15 days 00:00:00\n",
      "Profit Factor                        1.877193\n",
      "Expectancy [%]                         1.3123\n",
      "SQN                                  2.094541\n",
      "_strategy                 SmaCross(n1=5,n2...\n",
      "_equity_curve                             ...\n",
      "_trades                         Size  Entr...\n",
      "dtype: object\n",
      "SmaCross(n1=5,n2=10)\n",
      "\n",
      "---------------------------------------------\n",
      "\n",
      "Stats for GMKN before optimize\n",
      "--------------\n",
      "Start                     2018-01-03 00:00:00\n",
      "End                       2022-12-20 00:00:00\n",
      "Duration                   1812 days 00:00:00\n",
      "Exposure Time [%]                   96.928052\n",
      "Equity Final [$]                     897712.0\n",
      "Equity Peak [$]                     1434982.0\n",
      "Return [%]                           -10.2288\n",
      "Buy & Hold Return [%]               31.091842\n",
      "Return (Ann.) [%]                   -2.174261\n",
      "Volatility (Ann.) [%]               29.126401\n",
      "Sharpe Ratio                              0.0\n",
      "Sortino Ratio                             0.0\n",
      "Calmar Ratio                              0.0\n",
      "Max. Drawdown [%]                  -58.196409\n",
      "Avg. Drawdown [%]                  -15.739982\n",
      "Max. Drawdown Duration      709 days 00:00:00\n",
      "Avg. Drawdown Duration      219 days 00:00:00\n",
      "# Trades                                   73\n",
      "Win Rate [%]                        39.726027\n",
      "Best Trade [%]                      28.114762\n",
      "Worst Trade [%]                     -16.04764\n",
      "Avg. Trade [%]                      -0.154582\n",
      "Max. Trade Duration          81 days 00:00:00\n",
      "Avg. Trade Duration          25 days 00:00:00\n",
      "Profit Factor                         1.03138\n",
      "Expectancy [%]                       0.074424\n",
      "SQN                                 -0.187367\n",
      "_strategy                            SmaCross\n",
      "_equity_curve                            E...\n",
      "_trades                       Size  EntryB...\n",
      "dtype: object\n",
      "\n",
      "Stats for GMKN after optimize\n",
      "--------------\n"
     ]
    },
    {
     "data": {
      "application/vnd.jupyter.widget-view+json": {
       "model_id": "",
       "version_major": 2,
       "version_minor": 0
      },
      "text/plain": [
       "  0%|          | 0/9 [00:00<?, ?it/s]"
      ]
     },
     "metadata": {},
     "output_type": "display_data"
    },
    {
     "name": "stdout",
     "output_type": "stream",
     "text": [
      "Start                     2018-01-03 00:00:00\n",
      "End                       2022-12-20 00:00:00\n",
      "Duration                   1812 days 00:00:00\n",
      "Exposure Time [%]                   96.847211\n",
      "Equity Final [$]                    1794748.0\n",
      "Equity Peak [$]                     1898692.0\n",
      "Return [%]                            79.4748\n",
      "Buy & Hold Return [%]               31.091842\n",
      "Return (Ann.) [%]                   12.653646\n",
      "Volatility (Ann.) [%]               33.089935\n",
      "Sharpe Ratio                         0.382402\n",
      "Sortino Ratio                        0.658467\n",
      "Calmar Ratio                         0.437983\n",
      "Max. Drawdown [%]                  -28.890728\n",
      "Avg. Drawdown [%]                   -8.185576\n",
      "Max. Drawdown Duration      338 days 00:00:00\n",
      "Avg. Drawdown Duration       67 days 00:00:00\n",
      "# Trades                                   39\n",
      "Win Rate [%]                        41.025641\n",
      "Best Trade [%]                       22.38806\n",
      "Worst Trade [%]                     -8.343126\n",
      "Avg. Trade [%]                       1.522691\n",
      "Max. Trade Duration         141 days 00:00:00\n",
      "Avg. Trade Duration          45 days 00:00:00\n",
      "Profit Factor                        1.990252\n",
      "Expectancy [%]                       1.761158\n",
      "SQN                                   1.42456\n",
      "_strategy                 SmaCross(n1=5,n2...\n",
      "_equity_curve                            E...\n",
      "_trades                       Size  EntryB...\n",
      "dtype: object\n",
      "SmaCross(n1=5,n2=35)\n",
      "\n",
      "---------------------------------------------\n",
      "\n",
      "Stats for SBER before optimize\n",
      "--------------\n",
      "Start                     2018-01-03 00:00:00\n",
      "End                       2022-12-20 00:00:00\n",
      "Duration                   1812 days 00:00:00\n",
      "Exposure Time [%]                   96.038804\n",
      "Equity Final [$]                   1036766.75\n",
      "Equity Peak [$]                    1423465.54\n",
      "Return [%]                           3.676675\n",
      "Buy & Hold Return [%]               -40.37085\n",
      "Return (Ann.) [%]                    0.738278\n",
      "Volatility (Ann.) [%]               33.935941\n",
      "Sharpe Ratio                         0.021755\n",
      "Sortino Ratio                        0.032388\n",
      "Calmar Ratio                         0.019852\n",
      "Max. Drawdown [%]                  -37.189696\n",
      "Avg. Drawdown [%]                   -9.218977\n",
      "Max. Drawdown Duration      696 days 00:00:00\n",
      "Avg. Drawdown Duration      125 days 00:00:00\n",
      "# Trades                                   64\n",
      "Win Rate [%]                          42.1875\n",
      "Best Trade [%]                      35.502406\n",
      "Worst Trade [%]                    -30.543313\n",
      "Avg. Trade [%]                       0.056573\n",
      "Max. Trade Duration          82 days 00:00:00\n",
      "Avg. Trade Duration          28 days 00:00:00\n",
      "Profit Factor                         1.17524\n",
      "Expectancy [%]                       0.452222\n",
      "SQN                                  0.049076\n",
      "_strategy                            SmaCross\n",
      "_equity_curve                             ...\n",
      "_trades                       Size  EntryB...\n",
      "dtype: object\n",
      "\n",
      "Stats for SBER after optimize\n",
      "--------------\n"
     ]
    },
    {
     "data": {
      "application/vnd.jupyter.widget-view+json": {
       "model_id": "",
       "version_major": 2,
       "version_minor": 0
      },
      "text/plain": [
       "  0%|          | 0/9 [00:00<?, ?it/s]"
      ]
     },
     "metadata": {},
     "output_type": "display_data"
    },
    {
     "name": "stdout",
     "output_type": "stream",
     "text": [
      "Start                     2018-01-03 00:00:00\n",
      "End                       2022-12-20 00:00:00\n",
      "Duration                   1812 days 00:00:00\n",
      "Exposure Time [%]                   97.655618\n",
      "Equity Final [$]                    3491634.6\n",
      "Equity Peak [$]                    4244484.38\n",
      "Return [%]                          249.16346\n",
      "Buy & Hold Return [%]               -40.37085\n",
      "Return (Ann.) [%]                   29.010514\n",
      "Volatility (Ann.) [%]               45.726637\n",
      "Sharpe Ratio                         0.634434\n",
      "Sortino Ratio                        1.368035\n",
      "Calmar Ratio                         0.862323\n",
      "Max. Drawdown [%]                  -33.642294\n",
      "Avg. Drawdown [%]                   -5.281792\n",
      "Max. Drawdown Duration      572 days 00:00:00\n",
      "Avg. Drawdown Duration       35 days 00:00:00\n",
      "# Trades                                   83\n",
      "Win Rate [%]                        45.783133\n",
      "Best Trade [%]                        40.1766\n",
      "Worst Trade [%]                    -10.756782\n",
      "Avg. Trade [%]                       1.517984\n",
      "Max. Trade Duration          68 days 00:00:00\n",
      "Avg. Trade Duration          22 days 00:00:00\n",
      "Profit Factor                        2.049909\n",
      "Expectancy [%]                       1.812112\n",
      "SQN                                  1.352139\n",
      "_strategy                 SmaCross(n1=5,n2...\n",
      "_equity_curve                             ...\n",
      "_trades                        Size  Entry...\n",
      "dtype: object\n",
      "SmaCross(n1=5,n2=15)\n",
      "\n",
      "---------------------------------------------\n",
      "\n",
      "Stats for YNDX before optimize\n",
      "--------------\n",
      "Start                     2018-01-03 00:00:00\n",
      "End                       2022-12-20 00:00:00\n",
      "Duration                   1812 days 00:00:00\n",
      "Exposure Time [%]                   97.568882\n",
      "Equity Final [$]                     220082.3\n",
      "Equity Peak [$]                     1022285.5\n",
      "Return [%]                          -77.99177\n",
      "Buy & Hold Return [%]               -5.222537\n",
      "Return (Ann.) [%]                  -26.591438\n",
      "Volatility (Ann.) [%]               31.058333\n",
      "Sharpe Ratio                              0.0\n",
      "Sortino Ratio                             0.0\n",
      "Calmar Ratio                              0.0\n",
      "Max. Drawdown [%]                  -80.695579\n",
      "Avg. Drawdown [%]                   -31.72284\n",
      "Max. Drawdown Duration     1698 days 00:00:00\n",
      "Avg. Drawdown Duration      590 days 00:00:00\n",
      "# Trades                                   72\n",
      "Win Rate [%]                        31.944444\n",
      "Best Trade [%]                      54.645916\n",
      "Worst Trade [%]                    -48.256462\n",
      "Avg. Trade [%]                      -2.083861\n",
      "Max. Trade Duration         123 days 00:00:00\n",
      "Avg. Trade Duration          25 days 00:00:00\n",
      "Profit Factor                        0.664965\n",
      "Expectancy [%]                      -1.409295\n",
      "SQN                                 -1.336527\n",
      "_strategy                            SmaCross\n",
      "_equity_curve                            E...\n",
      "_trades                       Size  EntryB...\n",
      "dtype: object\n",
      "\n",
      "Stats for YNDX after optimize\n",
      "--------------\n"
     ]
    },
    {
     "data": {
      "application/vnd.jupyter.widget-view+json": {
       "model_id": "",
       "version_major": 2,
       "version_minor": 0
      },
      "text/plain": [
       "  0%|          | 0/9 [00:00<?, ?it/s]"
      ]
     },
     "metadata": {},
     "output_type": "display_data"
    },
    {
     "name": "stdout",
     "output_type": "stream",
     "text": [
      "Start                     2018-01-03 00:00:00\n",
      "End                       2022-12-20 00:00:00\n",
      "Duration                   1812 days 00:00:00\n",
      "Exposure Time [%]                   95.137763\n",
      "Equity Final [$]                    1717206.7\n",
      "Equity Peak [$]                     2339315.7\n",
      "Return [%]                           71.72067\n",
      "Buy & Hold Return [%]               -5.222537\n",
      "Return (Ann.) [%]                   11.674507\n",
      "Volatility (Ann.) [%]               39.323133\n",
      "Sharpe Ratio                         0.296886\n",
      "Sortino Ratio                         0.49495\n",
      "Calmar Ratio                         0.266477\n",
      "Max. Drawdown [%]                  -43.810576\n",
      "Avg. Drawdown [%]                   -8.760552\n",
      "Max. Drawdown Duration      650 days 00:00:00\n",
      "Avg. Drawdown Duration       68 days 00:00:00\n",
      "# Trades                                   39\n",
      "Win Rate [%]                        35.897436\n",
      "Best Trade [%]                      76.635584\n",
      "Worst Trade [%]                    -19.886493\n",
      "Avg. Trade [%]                       1.395939\n",
      "Max. Trade Duration         214 days 00:00:00\n",
      "Avg. Trade Duration          45 days 00:00:00\n",
      "Profit Factor                        1.783682\n",
      "Expectancy [%]                       2.613294\n",
      "SQN                                   0.62156\n",
      "_strategy                 SmaCross(n1=5,n2...\n",
      "_equity_curve                            E...\n",
      "_trades                       Size  EntryB...\n",
      "dtype: object\n",
      "SmaCross(n1=5,n2=40)\n",
      "\n",
      "---------------------------------------------\n",
      "\n"
     ]
    }
   ],
   "source": [
    "# Теперь для себа ещё раз просто выводим, а потом оптимизируем\n",
    "for ticker, df in data.items():\n",
    "    print(f'Stats for {ticker} before optimize\\n--------------')\n",
    "    bt = Backtest(df, strategy, cash=cash, commission=commission)\n",
    "    stats = bt.run()\n",
    "    bt.plot(filename = f'{ticker}_plot')\n",
    "    print(stats)\n",
    "    #print(stats['_trades'])\n",
    "    print(f'\\nStats for {ticker} after optimize\\n--------------')\n",
    "    stats = bt.optimize(n1=range(5, 30, 5),\n",
    "                    n2=range(10, 70, 5),\n",
    "                    maximize='Equity Final [$]',\n",
    "                    constraint=lambda param: param.n1 < param.n2)\n",
    "    print(stats)\n",
    "    print(stats._strategy)\n",
    "    bt.plot(filename = f'{ticker}_best_plot')\n",
    "    #print(stats['_equity_curve'])\n",
    "    #print(stats['_trades'])\n",
    "    print('\\n---------------------------------------------\\n')"
   ]
  },
  {
   "cell_type": "markdown",
   "id": "after-registrar",
   "metadata": {},
   "source": [
    "### 6) Нотификации в браузере"
   ]
  },
  {
   "cell_type": "code",
   "execution_count": 47,
   "id": "corporate-hundred",
   "metadata": {},
   "outputs": [],
   "source": [
    "import os\n",
    "import time"
   ]
  },
  {
   "cell_type": "code",
   "execution_count": 48,
   "id": "meaning-channel",
   "metadata": {},
   "outputs": [],
   "source": [
    "from winotify import Notification, audio"
   ]
  },
  {
   "cell_type": "code",
   "execution_count": 184,
   "id": "suffering-village",
   "metadata": {},
   "outputs": [],
   "source": [
    "# Делаем запрос каждые n (сейчас 10) секунд, сравниваем последнюю цену с границами"
   ]
  },
  {
   "cell_type": "code",
   "execution_count": 49,
   "id": "5b4bcc2e",
   "metadata": {},
   "outputs": [],
   "source": [
    "start=dt.datetime(2022,12,20)"
   ]
  },
  {
   "cell_type": "code",
   "execution_count": 53,
   "id": "fe989d8f",
   "metadata": {},
   "outputs": [
    {
     "data": {
      "text/plain": [
       "('FIVE', 'GAZP', 'GMKN', 'SBER', 'YNDX')"
      ]
     },
     "execution_count": 53,
     "metadata": {},
     "output_type": "execute_result"
    }
   ],
   "source": [
    "myTickers.value"
   ]
  },
  {
   "cell_type": "code",
   "execution_count": 63,
   "id": "necessary-equation",
   "metadata": {
    "scrolled": false
   },
   "outputs": [
    {
     "name": "stdout",
     "output_type": "stream",
     "text": [
      "[1592.0, 157.95, 14958.0, 137.69, 1847.0]\n",
      "Цена GAZP упала ниже минимальной границы\n"
     ]
    },
    {
     "ename": "KeyboardInterrupt",
     "evalue": "",
     "output_type": "error",
     "traceback": [
      "\u001b[1;31m---------------------------------------------------------------------------\u001b[0m",
      "\u001b[1;31mKeyboardInterrupt\u001b[0m                         Traceback (most recent call last)",
      "\u001b[1;32mC:\\Users\\A8A65~1.MIN\\AppData\\Local\\Temp/ipykernel_24856/2067292669.py\u001b[0m in \u001b[0;36m<module>\u001b[1;34m\u001b[0m\n\u001b[0;32m     26\u001b[0m             \u001b[0mtoast\u001b[0m\u001b[1;33m.\u001b[0m\u001b[0mset_audio\u001b[0m\u001b[1;33m(\u001b[0m\u001b[0maudio\u001b[0m\u001b[1;33m.\u001b[0m\u001b[0mDefault\u001b[0m\u001b[1;33m,\u001b[0m \u001b[0mloop\u001b[0m \u001b[1;33m=\u001b[0m \u001b[1;32mTrue\u001b[0m\u001b[1;33m)\u001b[0m\u001b[1;33m\u001b[0m\u001b[1;33m\u001b[0m\u001b[0m\n\u001b[0;32m     27\u001b[0m             \u001b[0mtoast\u001b[0m\u001b[1;33m.\u001b[0m\u001b[0mshow\u001b[0m\u001b[1;33m(\u001b[0m\u001b[1;33m)\u001b[0m\u001b[1;33m\u001b[0m\u001b[1;33m\u001b[0m\u001b[0m\n\u001b[1;32m---> 28\u001b[1;33m         \u001b[0mtime\u001b[0m\u001b[1;33m.\u001b[0m\u001b[0msleep\u001b[0m\u001b[1;33m(\u001b[0m\u001b[1;36m30\u001b[0m\u001b[1;33m)\u001b[0m \u001b[1;31m# Пользовательский ввод\u001b[0m\u001b[1;33m\u001b[0m\u001b[1;33m\u001b[0m\u001b[0m\n\u001b[0m",
      "\u001b[1;31mKeyboardInterrupt\u001b[0m: "
     ]
    }
   ],
   "source": [
    "while True:\n",
    "    \n",
    "    last_prices = [web.DataReader(ticker, 'moex', start=start)['CLOSE'][-1] for ticker in myTickers.value]\n",
    "    print(last_prices)\n",
    "    for i in range(len(myTickers.value)):\n",
    "        if last_prices[i] > upper_limits[i]:\n",
    "            print(f'Цена {myTickers.value[i]} превышает верхнюю границу ')\n",
    "            toast = Notification(app_id = 'MMTS Project',\n",
    "                                title = f'Stock price alert for {myTickers.value[i]}',\n",
    "                                msg = f' Цена {myTickers.value[i]} превысила критическое значение, достигнув {last_prices[i]}',\n",
    "                                icon = os.path.join(os.getcwd(),f'{myTickers.value[i]}.png'),\n",
    "                                duration = 'long')\n",
    "            toast.add_actions(label = 'Перейти на страницу к брокеру',\n",
    "                             launch = f'https://www.tinkoff.ru/invest/stocks/{myTickers.value[i]}/')\n",
    "            toast.set_audio(audio.Default, loop = True)\n",
    "            toast.show()\n",
    "        elif last_prices[i] < lower_limits[i]:\n",
    "            print(f'Цена {myTickers.value[i]} упала ниже минимальной границы')\n",
    "            toast = Notification(app_id = 'MMTS Project',\n",
    "                                title = f'Stock price alert for {myTickers.value[i]}',\n",
    "                                msg = f' Цена {myTickers.value[i]} упала ниже выставленной границы, достигнув {last_prices[i]}',\n",
    "                                icon = os.path.join(os.getcwd(),f'{myTickers.value[i]}.png'),\n",
    "                                duration = 'long')\n",
    "            toast.add_actions(label = 'Перейти на страницу к брокеру',\n",
    "                             launch = f'https://www.tinkoff.ru/invest/stocks/{myTickers.value[i]}/')\n",
    "            toast.set_audio(audio.Default, loop = True)\n",
    "            toast.show()\n",
    "        time.sleep(30) # Пользовательский ввод"
   ]
  },
  {
   "cell_type": "code",
   "execution_count": null,
   "id": "4bac904d",
   "metadata": {},
   "outputs": [],
   "source": []
  }
 ],
 "metadata": {
  "kernelspec": {
   "display_name": "Python 3",
   "language": "python",
   "name": "python3"
  },
  "language_info": {
   "codemirror_mode": {
    "name": "ipython",
    "version": 3
   },
   "file_extension": ".py",
   "mimetype": "text/x-python",
   "name": "python",
   "nbconvert_exporter": "python",
   "pygments_lexer": "ipython3",
   "version": "3.8.8"
  }
 },
 "nbformat": 4,
 "nbformat_minor": 5
}
