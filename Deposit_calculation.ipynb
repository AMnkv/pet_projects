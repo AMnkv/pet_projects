{
 "cells": [
  {
   "cell_type": "code",
   "execution_count": 1,
   "id": "right-macedonia",
   "metadata": {},
   "outputs": [],
   "source": [
    "import pandas as pd\n",
    "import numpy as np\n",
    "import math\n",
    "import matplotlib.pyplot as plt\n",
    "import ipywidgets\n",
    "from pylab import rcParams\n",
    "rcParams['figure.figsize'] = 12, 8\n",
    "import seaborn as sns\n",
    "sns.set_style('whitegrid')\n",
    "sns.set_palette('deep')\n",
    "#palette=\"deep\"\n"
   ]
  },
  {
   "cell_type": "code",
   "execution_count": 2,
   "id": "impressive-person",
   "metadata": {},
   "outputs": [],
   "source": [
    "### Задача - рассчитать, сколько накоплений будет через n месяцев при фиксированной процентной ставке\n",
    "# с капитализацией процентов, а также с добавлением некоторой суммы каждый месяц"
   ]
  },
  {
   "cell_type": "code",
   "execution_count": 3,
   "id": "functioning-humidity",
   "metadata": {},
   "outputs": [],
   "source": [
    "n_month = 12  # Сколько месяцев\n",
    "p = 0.05 # процентная ставка в год\n",
    "initial_sum = 120000 # сколько изначально\n",
    "monthly_payment = 30000 # ежемесячный платёж, в начале месяца"
   ]
  },
  {
   "cell_type": "code",
   "execution_count": 4,
   "id": "constant-cooperation",
   "metadata": {},
   "outputs": [],
   "source": [
    "sum_after_n_month = 0\n",
    "months = list(range(1,n_month+1))\n",
    "sums = []\n",
    "income = []"
   ]
  },
  {
   "cell_type": "code",
   "execution_count": 5,
   "id": "golden-bradley",
   "metadata": {},
   "outputs": [],
   "source": [
    "def calculation(p = p, n_month = n_month, initial_sum = initial_sum, monthly_payment = monthly_payment):\n",
    "    sum_after_n_month = 0\n",
    "    months = list(range(1,n_month+1))\n",
    "    sums = []\n",
    "    income = []\n",
    "    for n_month in range(1,n_month+1):\n",
    "        if n_month == 1:\n",
    "            sum_after_n_month = initial_sum * (1+p/12) + monthly_payment * (1+p/12)\n",
    "        else:\n",
    "            sum_after_n_month *= (1+p/12)\n",
    "            sum_after_n_month += monthly_payment * (1+p/12)\n",
    "        sums.append(sum_after_n_month)\n",
    "        income.append(sum_after_n_month - initial_sum - monthly_payment*n_month)\n",
    "    y1_ticks = np.arange(100, sums[-1]//1000 + 10, 50)\n",
    "    y2_ticks = np.arange(0, income[-1]//1000 + 1, 5)\n",
    "\n",
    "    # Set up the matplotlib figure\n",
    "    f, (ax1, ax2) = plt.subplots(2, 1, figsize=(14, 10), sharex=True)\n",
    "    sns.set_style(\"whitegrid\")\n",
    "    # Generate some sequential data\n",
    "    x = np.array(months)\n",
    "    sns.barplot(x=x, y=np.array(sums)//1000, palette=\"rocket\", ax=ax1)\n",
    "    ax1.axhline(0, color=\"k\", clip_on=False)\n",
    "    ax1.set_title(f\" Процентная ставка {p}, месяцев {n_month},изначально {initial_sum},платёж {monthly_payment}\")\n",
    "    ax1.set_ylabel(\"Total in thousands\")\n",
    "    ax1.set_yticks(y1_ticks)\n",
    "\n",
    "    # Randomly reorder the data to make it qualitative\n",
    "    sns.barplot(x=x, y=np.array(income)/1000, palette=\"deep\", ax=ax2)\n",
    "    ax2.axhline(0, color=\"k\", clip_on=False)\n",
    "    ax2.set_ylabel(\"Income in thousands\")\n",
    "    ax2.set_xlabel(\"Number of month\")\n",
    "    ax2.set_yticks(y2_ticks)\n",
    "    # Finalize the plot\n",
    "    sns.despine(bottom=True)\n",
    "    plt.tight_layout(h_pad=1)\n",
    "    print(f'Доход через {n_month} месяцев = {income[-1]:.0f}')\n",
    "    print(f'Всего накоплено на конец периода = {sums[-1]:.0f}')"
   ]
  },
  {
   "cell_type": "code",
   "execution_count": 6,
   "id": "funky-village",
   "metadata": {},
   "outputs": [
    {
     "data": {
      "application/vnd.jupyter.widget-view+json": {
       "model_id": "4935eaf7287144a7977fe6c01e3eaf5d",
       "version_major": 2,
       "version_minor": 0
      },
      "text/plain": [
       "interactive(children=(Dropdown(description='p', index=4, options=(0.01, 0.02, 0.03, 0.04, 0.05, 0.060000000000…"
      ]
     },
     "metadata": {},
     "output_type": "display_data"
    },
    {
     "data": {
      "text/plain": [
       "<function __main__.calculation(p=0.05, n_month=12, initial_sum=120000, monthly_payment=30000)>"
      ]
     },
     "execution_count": 6,
     "metadata": {},
     "output_type": "execute_result"
    }
   ],
   "source": [
    "ipywidgets.interact(calculation,p = np.arange(0.01, 0.15, 0.01), n_month = [1,3,6,9,12,18,24], initial_sum = list(range(120000, 200000, 10000)), monthly_payment = [20000, 25000, 30000, 35000] )"
   ]
  },
  {
   "cell_type": "code",
   "execution_count": null,
   "id": "progressive-mongolia",
   "metadata": {},
   "outputs": [],
   "source": []
  },
  {
   "cell_type": "code",
   "execution_count": null,
   "id": "respective-burns",
   "metadata": {},
   "outputs": [],
   "source": []
  },
  {
   "cell_type": "code",
   "execution_count": null,
   "id": "accessory-newfoundland",
   "metadata": {},
   "outputs": [],
   "source": []
  }
 ],
 "metadata": {
  "kernelspec": {
   "display_name": "Python 3",
   "language": "python",
   "name": "python3"
  },
  "language_info": {
   "codemirror_mode": {
    "name": "ipython",
    "version": 3
   },
   "file_extension": ".py",
   "mimetype": "text/x-python",
   "name": "python",
   "nbconvert_exporter": "python",
   "pygments_lexer": "ipython3",
   "version": "3.8.8"
  }
 },
 "nbformat": 4,
 "nbformat_minor": 5
}
